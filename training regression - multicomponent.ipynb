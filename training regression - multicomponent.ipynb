{
 "cells": [
  {
   "cell_type": "code",
   "execution_count": 1,
   "id": "88cea6cf-3f9d-43e4-9667-7935af9a16db",
   "metadata": {},
   "outputs": [],
   "source": [
    "import pandas as pd\n",
    "from lightning import pytorch as pl\n",
    "from pathlib import Path\n",
    "from chemprop import data, featurizers, models, nn\n",
    "from chemprop.nn import metrics\n",
    "from chemprop.models import multi\n",
    "import matplotlib.pyplot as plt\n",
    "import numpy as np\n",
    "import torch\n",
    "from lightning import pytorch as pl\n",
    "from sklearn.decomposition import PCA\n",
    "from sklearn.preprocessing import StandardScaler"
   ]
  },
  {
   "cell_type": "code",
   "execution_count": 7,
   "id": "5d26d3fb-2b49-4e26-a957-774bef927b6b",
   "metadata": {},
   "outputs": [],
   "source": [
    "import os\n",
    "chemprop_dir = Path.cwd().parent\n",
    "input_path = os.path.join(os.getcwd(), 'chemprop/regression.csv')\n",
    "smiles_columns = 'smiles'\n",
    "target_columns = ['logSolubility']"
   ]
  },
  {
   "cell_type": "code",
   "execution_count": 8,
   "id": "24eaa341-5815-4b14-9cfe-22df731af423",
   "metadata": {},
   "outputs": [
    {
     "data": {
      "text/html": [
       "<div>\n",
       "<style scoped>\n",
       "    .dataframe tbody tr th:only-of-type {\n",
       "        vertical-align: middle;\n",
       "    }\n",
       "\n",
       "    .dataframe tbody tr th {\n",
       "        vertical-align: top;\n",
       "    }\n",
       "\n",
       "    .dataframe thead th {\n",
       "        text-align: right;\n",
       "    }\n",
       "</style>\n",
       "<table border=\"1\" class=\"dataframe\">\n",
       "  <thead>\n",
       "    <tr style=\"text-align: right;\">\n",
       "      <th></th>\n",
       "      <th>smiles</th>\n",
       "      <th>logSolubility</th>\n",
       "    </tr>\n",
       "  </thead>\n",
       "  <tbody>\n",
       "    <tr>\n",
       "      <th>0</th>\n",
       "      <td>OCC3OC(OCC2OC(OC(C#N)c1ccccc1)C(O)C(O)C2O)C(O)...</td>\n",
       "      <td>-0.770</td>\n",
       "    </tr>\n",
       "    <tr>\n",
       "      <th>1</th>\n",
       "      <td>Cc1occc1C(=O)Nc2ccccc2</td>\n",
       "      <td>-3.300</td>\n",
       "    </tr>\n",
       "    <tr>\n",
       "      <th>2</th>\n",
       "      <td>CC(C)=CCCC(C)=CC(=O)</td>\n",
       "      <td>-2.060</td>\n",
       "    </tr>\n",
       "    <tr>\n",
       "      <th>3</th>\n",
       "      <td>c1ccc2c(c1)ccc3c2ccc4c5ccccc5ccc43</td>\n",
       "      <td>-7.870</td>\n",
       "    </tr>\n",
       "    <tr>\n",
       "      <th>4</th>\n",
       "      <td>c1ccsc1</td>\n",
       "      <td>-1.330</td>\n",
       "    </tr>\n",
       "    <tr>\n",
       "      <th>...</th>\n",
       "      <td>...</td>\n",
       "      <td>...</td>\n",
       "    </tr>\n",
       "    <tr>\n",
       "      <th>495</th>\n",
       "      <td>Nc1cc(nc(N)n1=O)N2CCCCC2</td>\n",
       "      <td>-1.989</td>\n",
       "    </tr>\n",
       "    <tr>\n",
       "      <th>496</th>\n",
       "      <td>Nc2cccc3nc1ccccc1cc23</td>\n",
       "      <td>-4.220</td>\n",
       "    </tr>\n",
       "    <tr>\n",
       "      <th>497</th>\n",
       "      <td>c1ccc2cc3c4cccc5cccc(c3cc2c1)c45</td>\n",
       "      <td>-8.490</td>\n",
       "    </tr>\n",
       "    <tr>\n",
       "      <th>498</th>\n",
       "      <td>OC(c1ccc(Cl)cc1)(c2ccc(Cl)cc2)C(Cl)(Cl)Cl</td>\n",
       "      <td>-5.666</td>\n",
       "    </tr>\n",
       "    <tr>\n",
       "      <th>499</th>\n",
       "      <td>C1Cc2cccc3cccc1c23</td>\n",
       "      <td>-4.630</td>\n",
       "    </tr>\n",
       "  </tbody>\n",
       "</table>\n",
       "<p>500 rows × 2 columns</p>\n",
       "</div>"
      ],
      "text/plain": [
       "                                                smiles  logSolubility\n",
       "0    OCC3OC(OCC2OC(OC(C#N)c1ccccc1)C(O)C(O)C2O)C(O)...         -0.770\n",
       "1                               Cc1occc1C(=O)Nc2ccccc2         -3.300\n",
       "2                                 CC(C)=CCCC(C)=CC(=O)         -2.060\n",
       "3                   c1ccc2c(c1)ccc3c2ccc4c5ccccc5ccc43         -7.870\n",
       "4                                              c1ccsc1         -1.330\n",
       "..                                                 ...            ...\n",
       "495                           Nc1cc(nc(N)n1=O)N2CCCCC2         -1.989\n",
       "496                              Nc2cccc3nc1ccccc1cc23         -4.220\n",
       "497                   c1ccc2cc3c4cccc5cccc(c3cc2c1)c45         -8.490\n",
       "498          OC(c1ccc(Cl)cc1)(c2ccc(Cl)cc2)C(Cl)(Cl)Cl         -5.666\n",
       "499                                 C1Cc2cccc3cccc1c23         -4.630\n",
       "\n",
       "[500 rows x 2 columns]"
      ]
     },
     "execution_count": 8,
     "metadata": {},
     "output_type": "execute_result"
    }
   ],
   "source": [
    "df_input = pd.read_csv(input_path)\n",
    "df_input"
   ]
  },
  {
   "cell_type": "code",
   "execution_count": 9,
   "id": "0a500c7d-ed39-4519-b113-fe9c3f985e23",
   "metadata": {},
   "outputs": [],
   "source": [
    "smiss = df_input.loc[:, smiles_columns].values\n",
    "ys = df_input.loc[:, target_columns].values"
   ]
  },
  {
   "cell_type": "code",
   "execution_count": 10,
   "id": "0f9dc575-a10e-4a13-a8e5-3bf39344f1d5",
   "metadata": {},
   "outputs": [
    {
     "data": {
      "text/plain": [
       "(array(['OCC3OC(OCC2OC(OC(C#N)c1ccccc1)C(O)C(O)C2O)C(O)C(O)C3O',\n",
       "        'Cc1occc1C(=O)Nc2ccccc2', 'CC(C)=CCCC(C)=CC(=O)',\n",
       "        'c1ccc2c(c1)ccc3c2ccc4c5ccccc5ccc43', 'c1ccsc1'], dtype=object),\n",
       " array([[-0.77],\n",
       "        [-3.3 ],\n",
       "        [-2.06],\n",
       "        [-7.87],\n",
       "        [-1.33]]))"
      ]
     },
     "execution_count": 10,
     "metadata": {},
     "output_type": "execute_result"
    }
   ],
   "source": [
    "smiss[:5], ys[:5]"
   ]
  },
  {
   "cell_type": "code",
   "execution_count": 1,
   "id": "c067c288-3d94-4e48-977b-dd814618285d",
   "metadata": {},
   "outputs": [
    {
     "ename": "NameError",
     "evalue": "name 'smiss' is not defined",
     "output_type": "error",
     "traceback": [
      "\u001b[0;31m---------------------------------------------------------------------------\u001b[0m",
      "\u001b[0;31mNameError\u001b[0m                                 Traceback (most recent call last)",
      "Cell \u001b[0;32mIn[1], line 1\u001b[0m\n\u001b[0;32m----> 1\u001b[0m all_data \u001b[38;5;241m=\u001b[39m [[data\u001b[38;5;241m.\u001b[39mMoleculeDatapoint\u001b[38;5;241m.\u001b[39mfrom_smi(smiss[\u001b[38;5;241m0\u001b[39m], y) \u001b[38;5;28;01mfor\u001b[39;00m smiss, y \u001b[38;5;129;01min\u001b[39;00m \u001b[38;5;28mzip\u001b[39m(\u001b[43msmiss\u001b[49m, ys)]]\n\u001b[1;32m      2\u001b[0m all_data \u001b[38;5;241m+\u001b[39m\u001b[38;5;241m=\u001b[39m [[data\u001b[38;5;241m.\u001b[39mMoleculeDatapoint\u001b[38;5;241m.\u001b[39mfrom_smi(smiss[i]) \u001b[38;5;28;01mfor\u001b[39;00m smiss \u001b[38;5;129;01min\u001b[39;00m smiss] \u001b[38;5;28;01mfor\u001b[39;00m i \u001b[38;5;129;01min\u001b[39;00m \u001b[38;5;28mrange\u001b[39m(\u001b[38;5;241m1\u001b[39m, \u001b[38;5;28mlen\u001b[39m(smiles_columns))]\n",
      "\u001b[0;31mNameError\u001b[0m: name 'smiss' is not defined"
     ]
    }
   ],
   "source": [
    "all_data = [[data.MoleculeDatapoint.from_smi(smis[0], y) for smis, y in zip(smiss, ys)]]\n",
    "all_data += [[data.MoleculeDatapoint.from_smi(smis[i]) for smis in smiss] for i in range(1, len(smiles_columns))]"
   ]
  },
  {
   "cell_type": "code",
   "execution_count": 2,
   "id": "0e344315-881c-4859-a2a4-b5818fe4910a",
   "metadata": {},
   "outputs": [
    {
     "ename": "NameError",
     "evalue": "name 'all_data' is not defined",
     "output_type": "error",
     "traceback": [
      "\u001b[0;31m---------------------------------------------------------------------------\u001b[0m",
      "\u001b[0;31mNameError\u001b[0m                                 Traceback (most recent call last)",
      "Cell \u001b[0;32mIn[2], line 2\u001b[0m\n\u001b[1;32m      1\u001b[0m component_to_split_by \u001b[38;5;241m=\u001b[39m \u001b[38;5;241m0\u001b[39m \n\u001b[0;32m----> 2\u001b[0m mols \u001b[38;5;241m=\u001b[39m [d\u001b[38;5;241m.\u001b[39mmol \u001b[38;5;28;01mfor\u001b[39;00m d \u001b[38;5;129;01min\u001b[39;00m \u001b[43mall_data\u001b[49m[component_to_split_by]]\n\u001b[1;32m      3\u001b[0m train_indices, val_indices, test_indices \u001b[38;5;241m=\u001b[39m data\u001b[38;5;241m.\u001b[39mmake_split_indices(mols, \u001b[38;5;124m\"\u001b[39m\u001b[38;5;124mrandom\u001b[39m\u001b[38;5;124m\"\u001b[39m, (\u001b[38;5;241m0.8\u001b[39m, \u001b[38;5;241m0.1\u001b[39m, \u001b[38;5;241m0.1\u001b[39m))\n\u001b[1;32m      4\u001b[0m train_data, val_data, test_data \u001b[38;5;241m=\u001b[39m data\u001b[38;5;241m.\u001b[39msplit_data_by_indices(\n\u001b[1;32m      5\u001b[0m     all_data, train_indices, val_indices, test_indices\n\u001b[1;32m      6\u001b[0m )\n",
      "\u001b[0;31mNameError\u001b[0m: name 'all_data' is not defined"
     ]
    }
   ],
   "source": [
    "component_to_split_by = 0 \n",
    "mols = [d.mol for d in all_data[component_to_split_by]]\n",
    "train_indices, val_indices, test_indices = data.make_split_indices(mols, \"random\", (0.8, 0.1, 0.1))\n",
    "train_data, val_data, test_data = data.split_data_by_indices(\n",
    "    all_data, train_indices, val_indices, test_indices\n",
    ")"
   ]
  },
  {
   "cell_type": "code",
   "execution_count": 3,
   "id": "30e843c1-fa0b-4d82-80bf-e39a67ca6b83",
   "metadata": {},
   "outputs": [
    {
     "ename": "NameError",
     "evalue": "name 'featurizers' is not defined",
     "output_type": "error",
     "traceback": [
      "\u001b[0;31m---------------------------------------------------------------------------\u001b[0m",
      "\u001b[0;31mNameError\u001b[0m                                 Traceback (most recent call last)",
      "Cell \u001b[0;32mIn[3], line 1\u001b[0m\n\u001b[0;32m----> 1\u001b[0m featurizer \u001b[38;5;241m=\u001b[39m \u001b[43mfeaturizers\u001b[49m\u001b[38;5;241m.\u001b[39mSimpleMoleculeMolGraphFeaturizer()\n\u001b[1;32m      3\u001b[0m train_datasets \u001b[38;5;241m=\u001b[39m [data\u001b[38;5;241m.\u001b[39mMoleculeDataset(train_data[\u001b[38;5;241m0\u001b[39m][i], featurizer) \u001b[38;5;28;01mfor\u001b[39;00m i \u001b[38;5;129;01min\u001b[39;00m \u001b[38;5;28mrange\u001b[39m(\u001b[38;5;28mlen\u001b[39m(smiles_columns))]\n\u001b[1;32m      4\u001b[0m val_datasets \u001b[38;5;241m=\u001b[39m [data\u001b[38;5;241m.\u001b[39mMoleculeDataset(val_data[\u001b[38;5;241m0\u001b[39m][i], featurizer) \u001b[38;5;28;01mfor\u001b[39;00m i \u001b[38;5;129;01min\u001b[39;00m \u001b[38;5;28mrange\u001b[39m(\u001b[38;5;28mlen\u001b[39m(smiles_columns))]\n",
      "\u001b[0;31mNameError\u001b[0m: name 'featurizers' is not defined"
     ]
    }
   ],
   "source": [
    "featurizer = featurizers.SimpleMoleculeMolGraphFeaturizer()\n",
    "\n",
    "train_datasets = [data.MoleculeDataset(train_data[0][i], featurizer) for i in range(len(smiles_columns))]\n",
    "val_datasets = [data.MoleculeDataset(val_data[0][i], featurizer) for i in range(len(smiles_columns))]\n",
    "test_datasets = [data.MoleculeDataset(test_data[0][i], featurizer) for i in range(len(smiles_columns))]"
   ]
  },
  {
   "cell_type": "code",
   "execution_count": 4,
   "id": "dc299906-5fbc-4494-9502-6df007f6b129",
   "metadata": {},
   "outputs": [
    {
     "ename": "NameError",
     "evalue": "name 'data' is not defined",
     "output_type": "error",
     "traceback": [
      "\u001b[0;31m---------------------------------------------------------------------------\u001b[0m",
      "\u001b[0;31mNameError\u001b[0m                                 Traceback (most recent call last)",
      "Cell \u001b[0;32mIn[4], line 1\u001b[0m\n\u001b[0;32m----> 1\u001b[0m train_mcdset \u001b[38;5;241m=\u001b[39m \u001b[43mdata\u001b[49m\u001b[38;5;241m.\u001b[39mMulticomponentDataset(train_datasets)\n\u001b[1;32m      2\u001b[0m scaler \u001b[38;5;241m=\u001b[39m train_mcdset\u001b[38;5;241m.\u001b[39mnormalize_targets()\n\u001b[1;32m      3\u001b[0m val_mcdset \u001b[38;5;241m=\u001b[39m data\u001b[38;5;241m.\u001b[39mMulticomponentDataset(val_datasets)\n",
      "\u001b[0;31mNameError\u001b[0m: name 'data' is not defined"
     ]
    }
   ],
   "source": [
    "train_mcdset = data.MulticomponentDataset(train_datasets)\n",
    "scaler = train_mcdset.normalize_targets()\n",
    "val_mcdset = data.MulticomponentDataset(val_datasets)\n",
    "val_mcdset.normalize_targets(scaler)\n",
    "test_mcdset = data.MulticomponentDataset(test_datasets)"
   ]
  },
  {
   "cell_type": "code",
   "execution_count": 5,
   "id": "bea3855a-2916-46bb-aa1f-39c1425650bc",
   "metadata": {},
   "outputs": [
    {
     "ename": "NameError",
     "evalue": "name 'data' is not defined",
     "output_type": "error",
     "traceback": [
      "\u001b[0;31m---------------------------------------------------------------------------\u001b[0m",
      "\u001b[0;31mNameError\u001b[0m                                 Traceback (most recent call last)",
      "Cell \u001b[0;32mIn[5], line 1\u001b[0m\n\u001b[0;32m----> 1\u001b[0m train_loader \u001b[38;5;241m=\u001b[39m \u001b[43mdata\u001b[49m\u001b[38;5;241m.\u001b[39mbuild_dataloader(train_mcdset)\n\u001b[1;32m      2\u001b[0m val_loader \u001b[38;5;241m=\u001b[39m data\u001b[38;5;241m.\u001b[39mbuild_dataloader(val_mcdset, shuffle\u001b[38;5;241m=\u001b[39m\u001b[38;5;28;01mFalse\u001b[39;00m)\n\u001b[1;32m      3\u001b[0m test_loader \u001b[38;5;241m=\u001b[39m data\u001b[38;5;241m.\u001b[39mbuild_dataloader(test_mcdset, shuffle\u001b[38;5;241m=\u001b[39m\u001b[38;5;28;01mFalse\u001b[39;00m)\n",
      "\u001b[0;31mNameError\u001b[0m: name 'data' is not defined"
     ]
    }
   ],
   "source": [
    "train_loader = data.build_dataloader(train_mcdset)\n",
    "val_loader = data.build_dataloader(val_mcdset, shuffle=False)\n",
    "test_loader = data.build_dataloader(test_mcdset, shuffle=False)"
   ]
  },
  {
   "cell_type": "code",
   "execution_count": 6,
   "id": "50e078e7-e604-4cdd-9b1f-5bbf2afe2324",
   "metadata": {},
   "outputs": [
    {
     "ename": "NameError",
     "evalue": "name 'nn' is not defined",
     "output_type": "error",
     "traceback": [
      "\u001b[0;31m---------------------------------------------------------------------------\u001b[0m",
      "\u001b[0;31mNameError\u001b[0m                                 Traceback (most recent call last)",
      "Cell \u001b[0;32mIn[6], line 1\u001b[0m\n\u001b[0;32m----> 1\u001b[0m mcmp \u001b[38;5;241m=\u001b[39m \u001b[43mnn\u001b[49m\u001b[38;5;241m.\u001b[39mMulticomponentMessagePassing(\n\u001b[1;32m      2\u001b[0m     blocks\u001b[38;5;241m=\u001b[39m[nn\u001b[38;5;241m.\u001b[39mBondMessagePassing() \u001b[38;5;28;01mfor\u001b[39;00m _ \u001b[38;5;129;01min\u001b[39;00m \u001b[38;5;28mrange\u001b[39m(\u001b[38;5;28mlen\u001b[39m(smiles_columns))],\n\u001b[1;32m      3\u001b[0m     n_components\u001b[38;5;241m=\u001b[39m\u001b[38;5;28mlen\u001b[39m(smiles_columns),\n\u001b[1;32m      4\u001b[0m )\n",
      "\u001b[0;31mNameError\u001b[0m: name 'nn' is not defined"
     ]
    }
   ],
   "source": [
    "mcmp = nn.MulticomponentMessagePassing(\n",
    "    blocks=[nn.BondMessagePassing() for _ in range(len(smiles_columns))],\n",
    "    n_components=len(smiles_columns),\n",
    ")"
   ]
  },
  {
   "cell_type": "code",
   "execution_count": 7,
   "id": "c5ea82d9-ccab-449b-a669-9538372dac9d",
   "metadata": {},
   "outputs": [
    {
     "ename": "NameError",
     "evalue": "name 'nn' is not defined",
     "output_type": "error",
     "traceback": [
      "\u001b[0;31m---------------------------------------------------------------------------\u001b[0m",
      "\u001b[0;31mNameError\u001b[0m                                 Traceback (most recent call last)",
      "Cell \u001b[0;32mIn[7], line 1\u001b[0m\n\u001b[0;32m----> 1\u001b[0m agg \u001b[38;5;241m=\u001b[39m \u001b[43mnn\u001b[49m\u001b[38;5;241m.\u001b[39mMeanAggregation()\n",
      "\u001b[0;31mNameError\u001b[0m: name 'nn' is not defined"
     ]
    }
   ],
   "source": [
    "agg = nn.MeanAggregation()"
   ]
  },
  {
   "cell_type": "code",
   "execution_count": 8,
   "id": "b944471f-8f1e-4afe-889d-e6ea68408728",
   "metadata": {},
   "outputs": [
    {
     "ename": "NameError",
     "evalue": "name 'nn' is not defined",
     "output_type": "error",
     "traceback": [
      "\u001b[0;31m---------------------------------------------------------------------------\u001b[0m",
      "\u001b[0;31mNameError\u001b[0m                                 Traceback (most recent call last)",
      "Cell \u001b[0;32mIn[8], line 1\u001b[0m\n\u001b[0;32m----> 1\u001b[0m output_transform \u001b[38;5;241m=\u001b[39m \u001b[43mnn\u001b[49m\u001b[38;5;241m.\u001b[39mUnscaleTransform\u001b[38;5;241m.\u001b[39mfrom_standard_scaler(scaler)\n",
      "\u001b[0;31mNameError\u001b[0m: name 'nn' is not defined"
     ]
    }
   ],
   "source": [
    "output_transform = nn.UnscaleTransform.from_standard_scaler(scaler)"
   ]
  },
  {
   "cell_type": "code",
   "execution_count": 9,
   "id": "924459b2-95b1-4d99-a114-c40938e962bf",
   "metadata": {},
   "outputs": [
    {
     "ename": "NameError",
     "evalue": "name 'nn' is not defined",
     "output_type": "error",
     "traceback": [
      "\u001b[0;31m---------------------------------------------------------------------------\u001b[0m",
      "\u001b[0;31mNameError\u001b[0m                                 Traceback (most recent call last)",
      "Cell \u001b[0;32mIn[9], line 1\u001b[0m\n\u001b[0;32m----> 1\u001b[0m ffn \u001b[38;5;241m=\u001b[39m \u001b[43mnn\u001b[49m\u001b[38;5;241m.\u001b[39mRegressionFFN(\n\u001b[1;32m      2\u001b[0m     input_dim\u001b[38;5;241m=\u001b[39mmcmp\u001b[38;5;241m.\u001b[39moutput_dim,\n\u001b[1;32m      3\u001b[0m     output_transform\u001b[38;5;241m=\u001b[39moutput_transform,\n\u001b[1;32m      4\u001b[0m )\n",
      "\u001b[0;31mNameError\u001b[0m: name 'nn' is not defined"
     ]
    }
   ],
   "source": [
    "ffn = nn.RegressionFFN(\n",
    "    input_dim=mcmp.output_dim,\n",
    "    output_transform=output_transform,\n",
    ")"
   ]
  },
  {
   "cell_type": "code",
   "execution_count": 10,
   "id": "b6a9ee30-8907-42dc-8838-02d8dec67511",
   "metadata": {},
   "outputs": [
    {
     "ename": "NameError",
     "evalue": "name 'metrics' is not defined",
     "output_type": "error",
     "traceback": [
      "\u001b[0;31m---------------------------------------------------------------------------\u001b[0m",
      "\u001b[0;31mNameError\u001b[0m                                 Traceback (most recent call last)",
      "Cell \u001b[0;32mIn[10], line 1\u001b[0m\n\u001b[0;32m----> 1\u001b[0m metric_list \u001b[38;5;241m=\u001b[39m [\u001b[43mmetrics\u001b[49m\u001b[38;5;241m.\u001b[39mRMSEMetric(), metrics\u001b[38;5;241m.\u001b[39mMAEMetric()] \n",
      "\u001b[0;31mNameError\u001b[0m: name 'metrics' is not defined"
     ]
    }
   ],
   "source": [
    "metric_list = [metrics.RMSEMetric(), metrics.MAEMetric()] "
   ]
  },
  {
   "cell_type": "code",
   "execution_count": 11,
   "id": "9a3ca94b-fd27-4001-b258-3402f39b1bd0",
   "metadata": {},
   "outputs": [
    {
     "ename": "NameError",
     "evalue": "name 'multi' is not defined",
     "output_type": "error",
     "traceback": [
      "\u001b[0;31m---------------------------------------------------------------------------\u001b[0m",
      "\u001b[0;31mNameError\u001b[0m                                 Traceback (most recent call last)",
      "Cell \u001b[0;32mIn[11], line 1\u001b[0m\n\u001b[0;32m----> 1\u001b[0m mcmpnn \u001b[38;5;241m=\u001b[39m \u001b[43mmulti\u001b[49m\u001b[38;5;241m.\u001b[39mMulticomponentMPNN(\n\u001b[1;32m      2\u001b[0m     mcmp,\n\u001b[1;32m      3\u001b[0m     agg,\n\u001b[1;32m      4\u001b[0m     ffn,\n\u001b[1;32m      5\u001b[0m     metrics\u001b[38;5;241m=\u001b[39mmetric_list,\n\u001b[1;32m      6\u001b[0m )\n\u001b[1;32m      8\u001b[0m mcmpnn\n",
      "\u001b[0;31mNameError\u001b[0m: name 'multi' is not defined"
     ]
    }
   ],
   "source": [
    "mcmpnn = multi.MulticomponentMPNN(\n",
    "    mcmp,\n",
    "    agg,\n",
    "    ffn,\n",
    "    metrics=metric_list,\n",
    ")\n",
    "\n",
    "mcmpnn"
   ]
  },
  {
   "cell_type": "code",
   "execution_count": 12,
   "id": "e021fba6-6857-4ae8-bf51-7d93c1e8d626",
   "metadata": {},
   "outputs": [
    {
     "ename": "NameError",
     "evalue": "name 'pl' is not defined",
     "output_type": "error",
     "traceback": [
      "\u001b[0;31m---------------------------------------------------------------------------\u001b[0m",
      "\u001b[0;31mNameError\u001b[0m                                 Traceback (most recent call last)",
      "Cell \u001b[0;32mIn[12], line 1\u001b[0m\n\u001b[0;32m----> 1\u001b[0m trainer \u001b[38;5;241m=\u001b[39m \u001b[43mpl\u001b[49m\u001b[38;5;241m.\u001b[39mTrainer(\n\u001b[1;32m      2\u001b[0m     logger\u001b[38;5;241m=\u001b[39m\u001b[38;5;28;01mFalse\u001b[39;00m,\n\u001b[1;32m      3\u001b[0m     enable_checkpointing\u001b[38;5;241m=\u001b[39m\u001b[38;5;28;01mTrue\u001b[39;00m,\n\u001b[1;32m      4\u001b[0m     enable_progress_bar\u001b[38;5;241m=\u001b[39m\u001b[38;5;28;01mTrue\u001b[39;00m,\n\u001b[1;32m      5\u001b[0m     accelerator\u001b[38;5;241m=\u001b[39m\u001b[38;5;124m\"\u001b[39m\u001b[38;5;124mauto\u001b[39m\u001b[38;5;124m\"\u001b[39m,\n\u001b[1;32m      6\u001b[0m     devices\u001b[38;5;241m=\u001b[39m\u001b[38;5;241m1\u001b[39m,\n\u001b[1;32m      7\u001b[0m     max_epochs\u001b[38;5;241m=\u001b[39m\u001b[38;5;241m20\u001b[39m, \u001b[38;5;66;03m# number of epochs to train for\u001b[39;00m\n\u001b[1;32m      8\u001b[0m )\n",
      "\u001b[0;31mNameError\u001b[0m: name 'pl' is not defined"
     ]
    }
   ],
   "source": [
    "trainer = pl.Trainer(\n",
    "    logger=False,\n",
    "    enable_checkpointing=True,\n",
    "    enable_progress_bar=True,\n",
    "    accelerator=\"auto\",\n",
    "    devices=1,\n",
    "    max_epochs=20, # number of epochs to train for\n",
    ")"
   ]
  },
  {
   "cell_type": "code",
   "execution_count": 13,
   "id": "eea69824-e182-4761-86f3-80652146bc45",
   "metadata": {},
   "outputs": [
    {
     "ename": "NameError",
     "evalue": "name 'trainer' is not defined",
     "output_type": "error",
     "traceback": [
      "\u001b[0;31m---------------------------------------------------------------------------\u001b[0m",
      "\u001b[0;31mNameError\u001b[0m                                 Traceback (most recent call last)",
      "Cell \u001b[0;32mIn[13], line 1\u001b[0m\n\u001b[0;32m----> 1\u001b[0m \u001b[43mtrainer\u001b[49m\u001b[38;5;241m.\u001b[39mfit(mcmpnn, train_loader, val_loader)\n",
      "\u001b[0;31mNameError\u001b[0m: name 'trainer' is not defined"
     ]
    }
   ],
   "source": [
    "trainer.fit(mcmpnn, train_loader, val_loader)"
   ]
  },
  {
   "cell_type": "code",
   "execution_count": 14,
   "id": "e5c9f99e-c2bd-458f-8b1a-dc0c68d940fb",
   "metadata": {},
   "outputs": [
    {
     "ename": "NameError",
     "evalue": "name 'trainer' is not defined",
     "output_type": "error",
     "traceback": [
      "\u001b[0;31m---------------------------------------------------------------------------\u001b[0m",
      "\u001b[0;31mNameError\u001b[0m                                 Traceback (most recent call last)",
      "Cell \u001b[0;32mIn[14], line 1\u001b[0m\n\u001b[0;32m----> 1\u001b[0m results \u001b[38;5;241m=\u001b[39m \u001b[43mtrainer\u001b[49m\u001b[38;5;241m.\u001b[39mtest(mcmpnn, test_loader)\n",
      "\u001b[0;31mNameError\u001b[0m: name 'trainer' is not defined"
     ]
    }
   ],
   "source": [
    "results = trainer.test(mcmpnn, test_loader)"
   ]
  },
  {
   "cell_type": "code",
   "execution_count": null,
   "id": "3a08b151-c0c5-4fa1-9abd-bd8a651c4635",
   "metadata": {},
   "outputs": [],
   "source": []
  }
 ],
 "metadata": {
  "kernelspec": {
   "display_name": "Python 3 (ipykernel)",
   "language": "python",
   "name": "python3"
  },
  "language_info": {
   "codemirror_mode": {
    "name": "ipython",
    "version": 3
   },
   "file_extension": ".py",
   "mimetype": "text/x-python",
   "name": "python",
   "nbconvert_exporter": "python",
   "pygments_lexer": "ipython3",
   "version": "3.11.9"
  }
 },
 "nbformat": 4,
 "nbformat_minor": 5
}
