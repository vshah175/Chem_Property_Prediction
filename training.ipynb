{
 "cells": [
  {
   "cell_type": "code",
   "execution_count": 51,
   "id": "3078e2f3-37dd-438a-9198-9e45fff2cb71",
   "metadata": {},
   "outputs": [],
   "source": [
    "import pandas as pd\n",
    "import matplotlib.pyplot as plt\n",
    "import torch\n",
    "from sklearn.decomposition import PCA\n",
    "from pathlib import Path\n",
    "from lightning import pytorch as pl\n",
    "from lightning.pytorch.callbacks import ModelCheckpoint\n",
    "from chemprop import data, featurizers, models, nn\n",
    "from sklearn.preprocessing import StandardScaler"
   ]
  },
  {
   "cell_type": "code",
   "execution_count": 52,
   "id": "febe9d89-c3d8-4197-9053-0322a6bf86d9",
   "metadata": {},
   "outputs": [],
   "source": [
    "import os\n",
    "chemprop_dir = Path.cwd().parent\n",
    "test_path = os.path.join(os.getcwd(), 'chemprop/regression.csv')\n",
    "num_workers = 0 \n",
    "smiles_column = 'smiles'\n",
    "target_columns = ['logSolubility']"
   ]
  },
  {
   "cell_type": "code",
   "execution_count": 53,
   "id": "4b9e86bf-316f-4141-b34f-0968cd9dbae1",
   "metadata": {},
   "outputs": [
    {
     "data": {
      "text/html": [
       "<div>\n",
       "<style scoped>\n",
       "    .dataframe tbody tr th:only-of-type {\n",
       "        vertical-align: middle;\n",
       "    }\n",
       "\n",
       "    .dataframe tbody tr th {\n",
       "        vertical-align: top;\n",
       "    }\n",
       "\n",
       "    .dataframe thead th {\n",
       "        text-align: right;\n",
       "    }\n",
       "</style>\n",
       "<table border=\"1\" class=\"dataframe\">\n",
       "  <thead>\n",
       "    <tr style=\"text-align: right;\">\n",
       "      <th></th>\n",
       "      <th>smiles</th>\n",
       "      <th>logSolubility</th>\n",
       "    </tr>\n",
       "  </thead>\n",
       "  <tbody>\n",
       "    <tr>\n",
       "      <th>0</th>\n",
       "      <td>OCC3OC(OCC2OC(OC(C#N)c1ccccc1)C(O)C(O)C2O)C(O)...</td>\n",
       "      <td>-0.770</td>\n",
       "    </tr>\n",
       "    <tr>\n",
       "      <th>1</th>\n",
       "      <td>Cc1occc1C(=O)Nc2ccccc2</td>\n",
       "      <td>-3.300</td>\n",
       "    </tr>\n",
       "    <tr>\n",
       "      <th>2</th>\n",
       "      <td>CC(C)=CCCC(C)=CC(=O)</td>\n",
       "      <td>-2.060</td>\n",
       "    </tr>\n",
       "    <tr>\n",
       "      <th>3</th>\n",
       "      <td>c1ccc2c(c1)ccc3c2ccc4c5ccccc5ccc43</td>\n",
       "      <td>-7.870</td>\n",
       "    </tr>\n",
       "    <tr>\n",
       "      <th>4</th>\n",
       "      <td>c1ccsc1</td>\n",
       "      <td>-1.330</td>\n",
       "    </tr>\n",
       "    <tr>\n",
       "      <th>...</th>\n",
       "      <td>...</td>\n",
       "      <td>...</td>\n",
       "    </tr>\n",
       "    <tr>\n",
       "      <th>495</th>\n",
       "      <td>Nc1cc(nc(N)n1=O)N2CCCCC2</td>\n",
       "      <td>-1.989</td>\n",
       "    </tr>\n",
       "    <tr>\n",
       "      <th>496</th>\n",
       "      <td>Nc2cccc3nc1ccccc1cc23</td>\n",
       "      <td>-4.220</td>\n",
       "    </tr>\n",
       "    <tr>\n",
       "      <th>497</th>\n",
       "      <td>c1ccc2cc3c4cccc5cccc(c3cc2c1)c45</td>\n",
       "      <td>-8.490</td>\n",
       "    </tr>\n",
       "    <tr>\n",
       "      <th>498</th>\n",
       "      <td>OC(c1ccc(Cl)cc1)(c2ccc(Cl)cc2)C(Cl)(Cl)Cl</td>\n",
       "      <td>-5.666</td>\n",
       "    </tr>\n",
       "    <tr>\n",
       "      <th>499</th>\n",
       "      <td>C1Cc2cccc3cccc1c23</td>\n",
       "      <td>-4.630</td>\n",
       "    </tr>\n",
       "  </tbody>\n",
       "</table>\n",
       "<p>500 rows × 2 columns</p>\n",
       "</div>"
      ],
      "text/plain": [
       "                                                smiles  logSolubility\n",
       "0    OCC3OC(OCC2OC(OC(C#N)c1ccccc1)C(O)C(O)C2O)C(O)...         -0.770\n",
       "1                               Cc1occc1C(=O)Nc2ccccc2         -3.300\n",
       "2                                 CC(C)=CCCC(C)=CC(=O)         -2.060\n",
       "3                   c1ccc2c(c1)ccc3c2ccc4c5ccccc5ccc43         -7.870\n",
       "4                                              c1ccsc1         -1.330\n",
       "..                                                 ...            ...\n",
       "495                           Nc1cc(nc(N)n1=O)N2CCCCC2         -1.989\n",
       "496                              Nc2cccc3nc1ccccc1cc23         -4.220\n",
       "497                   c1ccc2cc3c4cccc5cccc(c3cc2c1)c45         -8.490\n",
       "498          OC(c1ccc(Cl)cc1)(c2ccc(Cl)cc2)C(Cl)(Cl)Cl         -5.666\n",
       "499                                 C1Cc2cccc3cccc1c23         -4.630\n",
       "\n",
       "[500 rows x 2 columns]"
      ]
     },
     "execution_count": 53,
     "metadata": {},
     "output_type": "execute_result"
    }
   ],
   "source": [
    "df_test = pd.read_csv(test_path)\n",
    "df_test"
   ]
  },
  {
   "cell_type": "code",
   "execution_count": 54,
   "id": "7cf8bba7-2954-417e-a3bb-ba181ae3915c",
   "metadata": {},
   "outputs": [],
   "source": [
    "smis = df_test.loc[:, smiles_column].values\n",
    "ys = df_test.loc[:, target_columns].values"
   ]
  },
  {
   "cell_type": "code",
   "execution_count": 55,
   "id": "53ea1a77-100b-47fa-8f3d-fef71e5b66bd",
   "metadata": {},
   "outputs": [
    {
     "data": {
      "text/plain": [
       "array(['OCC3OC(OCC2OC(OC(C#N)c1ccccc1)C(O)C(O)C2O)C(O)C(O)C3O',\n",
       "       'Cc1occc1C(=O)Nc2ccccc2', 'CC(C)=CCCC(C)=CC(=O)',\n",
       "       'c1ccc2c(c1)ccc3c2ccc4c5ccccc5ccc43', 'c1ccsc1'], dtype=object)"
      ]
     },
     "execution_count": 55,
     "metadata": {},
     "output_type": "execute_result"
    }
   ],
   "source": [
    "smis[:5]"
   ]
  },
  {
   "cell_type": "code",
   "execution_count": 56,
   "id": "03ef1e32-7c78-4549-aad4-06c7149c3a6e",
   "metadata": {},
   "outputs": [
    {
     "data": {
      "text/plain": [
       "array([[-0.77],\n",
       "       [-3.3 ],\n",
       "       [-2.06],\n",
       "       [-7.87],\n",
       "       [-1.33]])"
      ]
     },
     "execution_count": 56,
     "metadata": {},
     "output_type": "execute_result"
    }
   ],
   "source": [
    "ys[:5]"
   ]
  },
  {
   "cell_type": "code",
   "execution_count": 57,
   "id": "4b825509-9189-4d9f-92cb-cc6bdcc25282",
   "metadata": {},
   "outputs": [
    {
     "name": "stdout",
     "output_type": "stream",
     "text": [
      "MoleculeDatapoint(mol=<rdkit.Chem.rdchem.Mol object at 0x7f386e7bd540>, y=array([-3.3]), weight=1.0, gt_mask=None, lt_mask=None, x_d=None, x_phase=None, name='Cc1occc1C(=O)Nc2ccccc2', V_f=None, E_f=None, V_d=None)\n"
     ]
    }
   ],
   "source": [
    "all_data = [data.MoleculeDatapoint.from_smi(smi, y) for smi, y in zip(smis, ys)]\n",
    "all_data[:5]\n",
    "print(all_data[1])"
   ]
  },
  {
   "cell_type": "code",
   "execution_count": 58,
   "id": "f016e45c-7835-4cab-b91a-5c62e58c31dd",
   "metadata": {},
   "outputs": [
    {
     "data": {
      "text/plain": [
       "['CV_NO_VAL',\n",
       " 'CV',\n",
       " 'SCAFFOLD_BALANCED',\n",
       " 'RANDOM_WITH_REPEATED_SMILES',\n",
       " 'RANDOM',\n",
       " 'KENNARD_STONE',\n",
       " 'KMEANS']"
      ]
     },
     "execution_count": 58,
     "metadata": {},
     "output_type": "execute_result"
    }
   ],
   "source": [
    "list(data.SplitType.keys())"
   ]
  },
  {
   "cell_type": "code",
   "execution_count": 59,
   "id": "4d63c37a-7f8f-4f4d-92dc-78fa7184e94e",
   "metadata": {},
   "outputs": [],
   "source": [
    "mols = [d.mol for d in all_data] \n",
    "train_indices, val_indices, test_indices = data.make_split_indices(mols, \"random\", (0.8, 0.1, 0.1))\n",
    "train_data, val_data, test_data = data.split_data_by_indices(\n",
    "    all_data, train_indices, val_indices, test_indices\n",
    ")"
   ]
  },
  {
   "cell_type": "code",
   "execution_count": 60,
   "id": "cd13901c-d59b-459a-994d-fb91f598ef6b",
   "metadata": {},
   "outputs": [],
   "source": [
    "featurizer = featurizers.SimpleMoleculeMolGraphFeaturizer()\n",
    "\n",
    "train_dset = data.MoleculeDataset(train_data, featurizer)\n",
    "\n",
    "scaler = train_dset.normalize_targets()\n",
    "\n",
    "val_dset = data.MoleculeDataset(val_data, featurizer)\n",
    "val_dset.normalize_targets(scaler)\n",
    "\n",
    "test_dset = data.MoleculeDataset(test_data, featurizer)"
   ]
  },
  {
   "cell_type": "code",
   "execution_count": 61,
   "id": "4e0cabe2-f9cd-417e-8995-018a46058989",
   "metadata": {},
   "outputs": [
    {
     "name": "stdout",
     "output_type": "stream",
     "text": [
      "Datum(mg=MolGraph(V=array([[0.     , 0.     , 0.     , 0.     , 0.     , 1.     , 0.     ,\n",
      "        0.     , 0.     , 0.     , 0.     , 0.     , 0.     , 0.     ,\n",
      "        0.     , 0.     , 0.     , 0.     , 0.     , 0.     , 0.     ,\n",
      "        0.     , 0.     , 0.     , 0.     , 0.     , 0.     , 0.     ,\n",
      "        0.     , 0.     , 0.     , 0.     , 0.     , 0.     , 0.     ,\n",
      "        0.     , 0.     , 0.     , 0.     , 0.     , 0.     , 0.     ,\n",
      "        1.     , 0.     , 0.     , 0.     , 0.     , 0.     , 0.     ,\n",
      "        1.     , 0.     , 1.     , 0.     , 0.     , 0.     , 0.     ,\n",
      "        0.     , 0.     , 0.     , 1.     , 0.     , 0.     , 0.     ,\n",
      "        0.     , 0.     , 0.     , 1.     , 0.     , 0.     , 0.     ,\n",
      "        0.     , 0.12011],\n",
      "       [0.     , 0.     , 0.     , 0.     , 0.     , 1.     , 0.     ,\n",
      "        0.     , 0.     , 0.     , 0.     , 0.     , 0.     , 0.     ,\n",
      "        0.     , 0.     , 0.     , 0.     , 0.     , 0.     , 0.     ,\n",
      "        0.     , 0.     , 0.     , 0.     , 0.     , 0.     , 0.     ,\n",
      "        0.     , 0.     , 0.     , 0.     , 0.     , 0.     , 0.     ,\n",
      "        0.     , 0.     , 0.     , 0.     , 0.     , 0.     , 0.     ,\n",
      "        1.     , 0.     , 0.     , 0.     , 0.     , 0.     , 0.     ,\n",
      "        1.     , 0.     , 1.     , 0.     , 0.     , 0.     , 0.     ,\n",
      "        0.     , 0.     , 1.     , 0.     , 0.     , 0.     , 0.     ,\n",
      "        0.     , 0.     , 0.     , 1.     , 0.     , 0.     , 0.     ,\n",
      "        0.     , 0.12011],\n",
      "       [0.     , 0.     , 0.     , 0.     , 0.     , 1.     , 0.     ,\n",
      "        0.     , 0.     , 0.     , 0.     , 0.     , 0.     , 0.     ,\n",
      "        0.     , 0.     , 0.     , 0.     , 0.     , 0.     , 0.     ,\n",
      "        0.     , 0.     , 0.     , 0.     , 0.     , 0.     , 0.     ,\n",
      "        0.     , 0.     , 0.     , 0.     , 0.     , 0.     , 0.     ,\n",
      "        0.     , 0.     , 0.     , 0.     , 0.     , 0.     , 1.     ,\n",
      "        0.     , 0.     , 0.     , 0.     , 0.     , 0.     , 0.     ,\n",
      "        1.     , 0.     , 1.     , 0.     , 0.     , 0.     , 0.     ,\n",
      "        1.     , 0.     , 0.     , 0.     , 0.     , 0.     , 0.     ,\n",
      "        0.     , 1.     , 0.     , 0.     , 0.     , 0.     , 0.     ,\n",
      "        1.     , 0.12011],\n",
      "       [0.     , 0.     , 0.     , 0.     , 0.     , 1.     , 0.     ,\n",
      "        0.     , 0.     , 0.     , 0.     , 0.     , 0.     , 0.     ,\n",
      "        0.     , 0.     , 0.     , 0.     , 0.     , 0.     , 0.     ,\n",
      "        0.     , 0.     , 0.     , 0.     , 0.     , 0.     , 0.     ,\n",
      "        0.     , 0.     , 0.     , 0.     , 0.     , 0.     , 0.     ,\n",
      "        0.     , 0.     , 0.     , 0.     , 0.     , 0.     , 1.     ,\n",
      "        0.     , 0.     , 0.     , 0.     , 0.     , 0.     , 0.     ,\n",
      "        1.     , 0.     , 1.     , 0.     , 0.     , 0.     , 0.     ,\n",
      "        0.     , 1.     , 0.     , 0.     , 0.     , 0.     , 0.     ,\n",
      "        0.     , 1.     , 0.     , 0.     , 0.     , 0.     , 0.     ,\n",
      "        1.     , 0.12011],\n",
      "       [0.     , 0.     , 0.     , 0.     , 0.     , 1.     , 0.     ,\n",
      "        0.     , 0.     , 0.     , 0.     , 0.     , 0.     , 0.     ,\n",
      "        0.     , 0.     , 0.     , 0.     , 0.     , 0.     , 0.     ,\n",
      "        0.     , 0.     , 0.     , 0.     , 0.     , 0.     , 0.     ,\n",
      "        0.     , 0.     , 0.     , 0.     , 0.     , 0.     , 0.     ,\n",
      "        0.     , 0.     , 0.     , 0.     , 0.     , 0.     , 1.     ,\n",
      "        0.     , 0.     , 0.     , 0.     , 0.     , 0.     , 0.     ,\n",
      "        1.     , 0.     , 1.     , 0.     , 0.     , 0.     , 0.     ,\n",
      "        0.     , 1.     , 0.     , 0.     , 0.     , 0.     , 0.     ,\n",
      "        0.     , 1.     , 0.     , 0.     , 0.     , 0.     , 0.     ,\n",
      "        1.     , 0.12011],\n",
      "       [0.     , 0.     , 0.     , 0.     , 0.     , 1.     , 0.     ,\n",
      "        0.     , 0.     , 0.     , 0.     , 0.     , 0.     , 0.     ,\n",
      "        0.     , 0.     , 0.     , 0.     , 0.     , 0.     , 0.     ,\n",
      "        0.     , 0.     , 0.     , 0.     , 0.     , 0.     , 0.     ,\n",
      "        0.     , 0.     , 0.     , 0.     , 0.     , 0.     , 0.     ,\n",
      "        0.     , 0.     , 0.     , 0.     , 0.     , 0.     , 1.     ,\n",
      "        0.     , 0.     , 0.     , 0.     , 0.     , 0.     , 0.     ,\n",
      "        1.     , 0.     , 1.     , 0.     , 0.     , 0.     , 0.     ,\n",
      "        0.     , 1.     , 0.     , 0.     , 0.     , 0.     , 0.     ,\n",
      "        0.     , 1.     , 0.     , 0.     , 0.     , 0.     , 0.     ,\n",
      "        1.     , 0.12011],\n",
      "       [0.     , 0.     , 0.     , 0.     , 0.     , 1.     , 0.     ,\n",
      "        0.     , 0.     , 0.     , 0.     , 0.     , 0.     , 0.     ,\n",
      "        0.     , 0.     , 0.     , 0.     , 0.     , 0.     , 0.     ,\n",
      "        0.     , 0.     , 0.     , 0.     , 0.     , 0.     , 0.     ,\n",
      "        0.     , 0.     , 0.     , 0.     , 0.     , 0.     , 0.     ,\n",
      "        0.     , 0.     , 0.     , 0.     , 0.     , 0.     , 1.     ,\n",
      "        0.     , 0.     , 0.     , 0.     , 0.     , 0.     , 0.     ,\n",
      "        1.     , 0.     , 1.     , 0.     , 0.     , 0.     , 0.     ,\n",
      "        0.     , 1.     , 0.     , 0.     , 0.     , 0.     , 0.     ,\n",
      "        0.     , 1.     , 0.     , 0.     , 0.     , 0.     , 0.     ,\n",
      "        1.     , 0.12011],\n",
      "       [0.     , 0.     , 0.     , 0.     , 0.     , 1.     , 0.     ,\n",
      "        0.     , 0.     , 0.     , 0.     , 0.     , 0.     , 0.     ,\n",
      "        0.     , 0.     , 0.     , 0.     , 0.     , 0.     , 0.     ,\n",
      "        0.     , 0.     , 0.     , 0.     , 0.     , 0.     , 0.     ,\n",
      "        0.     , 0.     , 0.     , 0.     , 0.     , 0.     , 0.     ,\n",
      "        0.     , 0.     , 0.     , 0.     , 0.     , 0.     , 1.     ,\n",
      "        0.     , 0.     , 0.     , 0.     , 0.     , 0.     , 0.     ,\n",
      "        1.     , 0.     , 1.     , 0.     , 0.     , 0.     , 0.     ,\n",
      "        1.     , 0.     , 0.     , 0.     , 0.     , 0.     , 0.     ,\n",
      "        0.     , 1.     , 0.     , 0.     , 0.     , 0.     , 0.     ,\n",
      "        1.     , 0.12011],\n",
      "       [0.     , 0.     , 0.     , 0.     , 0.     , 1.     , 0.     ,\n",
      "        0.     , 0.     , 0.     , 0.     , 0.     , 0.     , 0.     ,\n",
      "        0.     , 0.     , 0.     , 0.     , 0.     , 0.     , 0.     ,\n",
      "        0.     , 0.     , 0.     , 0.     , 0.     , 0.     , 0.     ,\n",
      "        0.     , 0.     , 0.     , 0.     , 0.     , 0.     , 0.     ,\n",
      "        0.     , 0.     , 0.     , 0.     , 0.     , 0.     , 0.     ,\n",
      "        1.     , 0.     , 0.     , 0.     , 0.     , 0.     , 0.     ,\n",
      "        1.     , 0.     , 1.     , 0.     , 0.     , 0.     , 0.     ,\n",
      "        0.     , 0.     , 0.     , 1.     , 0.     , 0.     , 0.     ,\n",
      "        0.     , 0.     , 0.     , 1.     , 0.     , 0.     , 0.     ,\n",
      "        0.     , 0.12011]], dtype=float32), E=array([[0., 1., 0., 0., 0., 0., 0., 1., 0., 0., 0., 0., 0., 0.],\n",
      "       [0., 1., 0., 0., 0., 0., 0., 1., 0., 0., 0., 0., 0., 0.],\n",
      "       [0., 1., 0., 0., 0., 0., 0., 1., 0., 0., 0., 0., 0., 0.],\n",
      "       [0., 1., 0., 0., 0., 0., 0., 1., 0., 0., 0., 0., 0., 0.],\n",
      "       [0., 0., 0., 0., 1., 1., 1., 1., 0., 0., 0., 0., 0., 0.],\n",
      "       [0., 0., 0., 0., 1., 1., 1., 1., 0., 0., 0., 0., 0., 0.],\n",
      "       [0., 0., 0., 0., 1., 1., 1., 1., 0., 0., 0., 0., 0., 0.],\n",
      "       [0., 0., 0., 0., 1., 1., 1., 1., 0., 0., 0., 0., 0., 0.],\n",
      "       [0., 0., 0., 0., 1., 1., 1., 1., 0., 0., 0., 0., 0., 0.],\n",
      "       [0., 0., 0., 0., 1., 1., 1., 1., 0., 0., 0., 0., 0., 0.],\n",
      "       [0., 0., 0., 0., 1., 1., 1., 1., 0., 0., 0., 0., 0., 0.],\n",
      "       [0., 0., 0., 0., 1., 1., 1., 1., 0., 0., 0., 0., 0., 0.],\n",
      "       [0., 0., 0., 0., 1., 1., 1., 1., 0., 0., 0., 0., 0., 0.],\n",
      "       [0., 0., 0., 0., 1., 1., 1., 1., 0., 0., 0., 0., 0., 0.],\n",
      "       [0., 1., 0., 0., 0., 0., 0., 1., 0., 0., 0., 0., 0., 0.],\n",
      "       [0., 1., 0., 0., 0., 0., 0., 1., 0., 0., 0., 0., 0., 0.],\n",
      "       [0., 0., 0., 0., 1., 1., 1., 1., 0., 0., 0., 0., 0., 0.],\n",
      "       [0., 0., 0., 0., 1., 1., 1., 1., 0., 0., 0., 0., 0., 0.]]), edge_index=array([[0, 1, 1, 2, 2, 3, 3, 4, 4, 5, 5, 6, 6, 7, 7, 8, 7, 2],\n",
      "       [1, 0, 2, 1, 3, 2, 4, 3, 5, 4, 6, 5, 7, 6, 8, 7, 2, 7]]), rev_edge_index=array([ 1,  0,  3,  2,  5,  4,  7,  6,  9,  8, 11, 10, 13, 12, 15, 14, 17,\n",
      "       16])), V_d=None, x_d=None, y=array([-0.06889941]), weight=1.0, lt_mask=None, gt_mask=None)\n"
     ]
    }
   ],
   "source": [
    "print(train_dset[1])"
   ]
  },
  {
   "cell_type": "code",
   "execution_count": 62,
   "id": "3ae0cde7-cf6e-4c5f-a0bd-006e53d780a6",
   "metadata": {},
   "outputs": [],
   "source": [
    "train_loader = data.build_dataloader(train_dset, num_workers=num_workers)\n",
    "val_loader = data.build_dataloader(val_dset, num_workers=num_workers, shuffle=False)\n",
    "test_loader = data.build_dataloader(test_dset, num_workers=num_workers, shuffle=False)"
   ]
  },
  {
   "cell_type": "code",
   "execution_count": 63,
   "id": "6f8e685c-57fc-4b65-b502-f721ffe0a973",
   "metadata": {},
   "outputs": [],
   "source": [
    "mp = nn.BondMessagePassing()"
   ]
  },
  {
   "cell_type": "code",
   "execution_count": 64,
   "id": "43df2775-3ebc-4e2b-9317-f4b3f1d999f7",
   "metadata": {},
   "outputs": [
    {
     "name": "stdout",
     "output_type": "stream",
     "text": [
      "ClassRegistry {\n",
      "    'mean': <class 'chemprop.nn.agg.MeanAggregation'>,\n",
      "    'sum': <class 'chemprop.nn.agg.SumAggregation'>,\n",
      "    'norm': <class 'chemprop.nn.agg.NormAggregation'>\n",
      "}\n"
     ]
    }
   ],
   "source": [
    "print(nn.agg.AggregationRegistry)"
   ]
  },
  {
   "cell_type": "code",
   "execution_count": 65,
   "id": "4207506d-56f8-4ae3-a8ee-e4014131ecbb",
   "metadata": {},
   "outputs": [],
   "source": [
    "agg = nn.MeanAggregation()"
   ]
  },
  {
   "cell_type": "code",
   "execution_count": 66,
   "id": "27fc9591-c417-40dd-97b1-4d1c5288f397",
   "metadata": {},
   "outputs": [
    {
     "name": "stdout",
     "output_type": "stream",
     "text": [
      "ClassRegistry {\n",
      "    'regression': <class 'chemprop.nn.predictors.RegressionFFN'>,\n",
      "    'regression-mve': <class 'chemprop.nn.predictors.MveFFN'>,\n",
      "    'regression-evidential': <class 'chemprop.nn.predictors.EvidentialFFN'>,\n",
      "    'classification': <class 'chemprop.nn.predictors.BinaryClassificationFFN'>,\n",
      "    'classification-dirichlet': <class 'chemprop.nn.predictors.BinaryDirichletFFN'>,\n",
      "    'multiclass': <class 'chemprop.nn.predictors.MulticlassClassificationFFN'>,\n",
      "    'multiclass-dirichlet': <class 'chemprop.nn.predictors.MulticlassDirichletFFN'>,\n",
      "    'spectral': <class 'chemprop.nn.predictors.SpectralFFN'>\n",
      "}\n"
     ]
    }
   ],
   "source": [
    "print(nn.PredictorRegistry)"
   ]
  },
  {
   "cell_type": "code",
   "execution_count": 67,
   "id": "b43e3ebb-003c-4a9d-a6d4-debc7c8a1ed5",
   "metadata": {},
   "outputs": [],
   "source": [
    "output_transform = nn.UnscaleTransform.from_standard_scaler(scaler)"
   ]
  },
  {
   "cell_type": "code",
   "execution_count": 68,
   "id": "50858e73-39cb-4c69-b4ea-57e478d45c2d",
   "metadata": {},
   "outputs": [],
   "source": [
    "ffn = nn.RegressionFFN(output_transform=output_transform)"
   ]
  },
  {
   "cell_type": "code",
   "execution_count": 69,
   "id": "0815fb09-8e6b-4c15-8ab0-b43f5ab28f42",
   "metadata": {},
   "outputs": [],
   "source": [
    "batch_norm = True"
   ]
  },
  {
   "cell_type": "code",
   "execution_count": 70,
   "id": "bf54786a-9af3-43ac-b9c4-ce494a7adea4",
   "metadata": {},
   "outputs": [
    {
     "name": "stdout",
     "output_type": "stream",
     "text": [
      "ClassRegistry {\n",
      "    'mae': <class 'chemprop.nn.metrics.MAEMetric'>,\n",
      "    'mse': <class 'chemprop.nn.metrics.MSEMetric'>,\n",
      "    'rmse': <class 'chemprop.nn.metrics.RMSEMetric'>,\n",
      "    'bounded-mae': <class 'chemprop.nn.metrics.BoundedMAEMetric'>,\n",
      "    'bounded-mse': <class 'chemprop.nn.metrics.BoundedMSEMetric'>,\n",
      "    'bounded-rmse': <class 'chemprop.nn.metrics.BoundedRMSEMetric'>,\n",
      "    'r2': <class 'chemprop.nn.metrics.R2Metric'>,\n",
      "    'roc': <class 'chemprop.nn.metrics.BinaryAUROCMetric'>,\n",
      "    'prc': <class 'chemprop.nn.metrics.BinaryAUPRCMetric'>,\n",
      "    'accuracy': <class 'chemprop.nn.metrics.BinaryAccuracyMetric'>,\n",
      "    'f1': <class 'chemprop.nn.metrics.BinaryF1Metric'>,\n",
      "    'bce': <class 'chemprop.nn.metrics.BCEMetric'>,\n",
      "    'ce': <class 'chemprop.nn.metrics.CrossEntropyMetric'>,\n",
      "    'binary-mcc': <class 'chemprop.nn.metrics.BinaryMCCMetric'>,\n",
      "    'multiclass-mcc': <class 'chemprop.nn.metrics.MulticlassMCCMetric'>,\n",
      "    'sid': <class 'chemprop.nn.metrics.SIDMetric'>,\n",
      "    'wasserstein': <class 'chemprop.nn.metrics.WassersteinMetric'>\n",
      "}\n"
     ]
    }
   ],
   "source": [
    "print(nn.metrics.MetricRegistry)"
   ]
  },
  {
   "cell_type": "code",
   "execution_count": 71,
   "id": "c1dbcfab-2805-43c9-9a0c-42fe3f5b4496",
   "metadata": {},
   "outputs": [],
   "source": [
    "metric_list = [nn.metrics.RMSEMetric(), nn.metrics.MAEMetric()]"
   ]
  },
  {
   "cell_type": "code",
   "execution_count": 72,
   "id": "fc75967b-178a-4f5e-94ee-ee55f7f287c3",
   "metadata": {},
   "outputs": [
    {
     "data": {
      "text/plain": [
       "MPNN(\n",
       "  (message_passing): BondMessagePassing(\n",
       "    (W_i): Linear(in_features=86, out_features=300, bias=False)\n",
       "    (W_h): Linear(in_features=300, out_features=300, bias=False)\n",
       "    (W_o): Linear(in_features=372, out_features=300, bias=True)\n",
       "    (dropout): Dropout(p=0.0, inplace=False)\n",
       "    (tau): ReLU()\n",
       "    (V_d_transform): Identity()\n",
       "    (graph_transform): Identity()\n",
       "  )\n",
       "  (agg): MeanAggregation()\n",
       "  (bn): BatchNorm1d(300, eps=1e-05, momentum=0.1, affine=True, track_running_stats=True)\n",
       "  (predictor): RegressionFFN(\n",
       "    (ffn): MLP(\n",
       "      (0): Sequential(\n",
       "        (0): Linear(in_features=300, out_features=300, bias=True)\n",
       "      )\n",
       "      (1): Sequential(\n",
       "        (0): ReLU()\n",
       "        (1): Dropout(p=0.0, inplace=False)\n",
       "        (2): Linear(in_features=300, out_features=1, bias=True)\n",
       "      )\n",
       "    )\n",
       "    (criterion): MSELoss(task_weights=[[1.0]])\n",
       "    (output_transform): UnscaleTransform()\n",
       "  )\n",
       "  (X_d_transform): Identity()\n",
       ")"
      ]
     },
     "execution_count": 72,
     "metadata": {},
     "output_type": "execute_result"
    }
   ],
   "source": [
    "mpnn = models.MPNN(mp, agg, ffn, batch_norm, metric_list)\n",
    "\n",
    "mpnn"
   ]
  },
  {
   "cell_type": "code",
   "execution_count": 73,
   "id": "0ce40a2b-b819-44ec-acb1-d6c46e1e1779",
   "metadata": {},
   "outputs": [],
   "source": [
    "checkpointing = ModelCheckpoint(\n",
    "    \"checkpoints\",  # Directory where model checkpoints will be saved\n",
    "    \"best-{epoch}-{val_loss:.2f}\",  # Filename format for checkpoints, including epoch and validation loss\n",
    "    \"val_loss\",  # Metric used to select the best checkpoint (based on validation loss)\n",
    "    mode=\"min\",  # Save the checkpoint with the lowest validation loss (minimization objective)\n",
    "    save_last=True,  # Always save the most recent checkpoint, even if it's not the best\n",
    ")"
   ]
  },
  {
   "cell_type": "code",
   "execution_count": 74,
   "id": "9e041109-af49-433c-8c27-9d169609e473",
   "metadata": {},
   "outputs": [
    {
     "name": "stderr",
     "output_type": "stream",
     "text": [
      "GPU available: False, used: False\n",
      "TPU available: False, using: 0 TPU cores\n",
      "HPU available: False, using: 0 HPUs\n"
     ]
    }
   ],
   "source": [
    "trainer = pl.Trainer(\n",
    "    logger=False,\n",
    "    enable_checkpointing=True, \n",
    "    enable_progress_bar=True,\n",
    "    accelerator=\"auto\",\n",
    "    devices=1,\n",
    "    max_epochs=20, \n",
    "    callbacks=[checkpointing], # Use the configured checkpoint callback\n",
    ")"
   ]
  },
  {
   "cell_type": "code",
   "execution_count": 76,
   "id": "a55abc64-1d48-4f6c-b283-39503688627c",
   "metadata": {},
   "outputs": [
    {
     "name": "stderr",
     "output_type": "stream",
     "text": [
      "/opt/conda/envs/chemprop_env/lib/python3.11/site-packages/lightning/pytorch/callbacks/model_checkpoint.py:654: Checkpoint directory /opt/chemprop/checkpoints exists and is not empty.\n",
      "Loading `train_dataloader` to estimate number of stepping batches.\n",
      "/opt/conda/envs/chemprop_env/lib/python3.11/site-packages/lightning/pytorch/trainer/connectors/data_connector.py:424: The 'train_dataloader' does not have many workers which may be a bottleneck. Consider increasing the value of the `num_workers` argument` to `num_workers=7` in the `DataLoader` to improve performance.\n",
      "\n",
      "  | Name            | Type               | Params | Mode \n",
      "---------------------------------------------------------------\n",
      "0 | message_passing | BondMessagePassing | 227 K  | train\n",
      "1 | agg             | MeanAggregation    | 0      | train\n",
      "2 | bn              | BatchNorm1d        | 600    | train\n",
      "3 | predictor       | RegressionFFN      | 90.6 K | train\n",
      "4 | X_d_transform   | Identity           | 0      | train\n",
      "---------------------------------------------------------------\n",
      "318 K     Trainable params\n",
      "0         Non-trainable params\n",
      "318 K     Total params\n",
      "1.276     Total estimated model params size (MB)\n",
      "21        Modules in train mode\n",
      "0         Modules in eval mode\n"
     ]
    },
    {
     "data": {
      "application/vnd.jupyter.widget-view+json": {
       "model_id": "",
       "version_major": 2,
       "version_minor": 0
      },
      "text/plain": [
       "Sanity Checking: |                                                                                | 0/? [00:00…"
      ]
     },
     "metadata": {},
     "output_type": "display_data"
    },
    {
     "name": "stderr",
     "output_type": "stream",
     "text": [
      "/opt/conda/envs/chemprop_env/lib/python3.11/site-packages/lightning/pytorch/trainer/connectors/data_connector.py:424: The 'val_dataloader' does not have many workers which may be a bottleneck. Consider increasing the value of the `num_workers` argument` to `num_workers=7` in the `DataLoader` to improve performance.\n"
     ]
    },
    {
     "data": {
      "application/vnd.jupyter.widget-view+json": {
       "model_id": "6ee0a69dd2174a9fbe3fda7d453a238d",
       "version_major": 2,
       "version_minor": 0
      },
      "text/plain": [
       "Training: |                                                                                       | 0/? [00:00…"
      ]
     },
     "metadata": {},
     "output_type": "display_data"
    },
    {
     "data": {
      "application/vnd.jupyter.widget-view+json": {
       "model_id": "",
       "version_major": 2,
       "version_minor": 0
      },
      "text/plain": [
       "Validation: |                                                                                     | 0/? [00:00…"
      ]
     },
     "metadata": {},
     "output_type": "display_data"
    },
    {
     "data": {
      "application/vnd.jupyter.widget-view+json": {
       "model_id": "",
       "version_major": 2,
       "version_minor": 0
      },
      "text/plain": [
       "Validation: |                                                                                     | 0/? [00:00…"
      ]
     },
     "metadata": {},
     "output_type": "display_data"
    },
    {
     "data": {
      "application/vnd.jupyter.widget-view+json": {
       "model_id": "",
       "version_major": 2,
       "version_minor": 0
      },
      "text/plain": [
       "Validation: |                                                                                     | 0/? [00:00…"
      ]
     },
     "metadata": {},
     "output_type": "display_data"
    },
    {
     "data": {
      "application/vnd.jupyter.widget-view+json": {
       "model_id": "",
       "version_major": 2,
       "version_minor": 0
      },
      "text/plain": [
       "Validation: |                                                                                     | 0/? [00:00…"
      ]
     },
     "metadata": {},
     "output_type": "display_data"
    },
    {
     "data": {
      "application/vnd.jupyter.widget-view+json": {
       "model_id": "",
       "version_major": 2,
       "version_minor": 0
      },
      "text/plain": [
       "Validation: |                                                                                     | 0/? [00:00…"
      ]
     },
     "metadata": {},
     "output_type": "display_data"
    },
    {
     "data": {
      "application/vnd.jupyter.widget-view+json": {
       "model_id": "",
       "version_major": 2,
       "version_minor": 0
      },
      "text/plain": [
       "Validation: |                                                                                     | 0/? [00:00…"
      ]
     },
     "metadata": {},
     "output_type": "display_data"
    },
    {
     "data": {
      "application/vnd.jupyter.widget-view+json": {
       "model_id": "",
       "version_major": 2,
       "version_minor": 0
      },
      "text/plain": [
       "Validation: |                                                                                     | 0/? [00:00…"
      ]
     },
     "metadata": {},
     "output_type": "display_data"
    },
    {
     "data": {
      "application/vnd.jupyter.widget-view+json": {
       "model_id": "",
       "version_major": 2,
       "version_minor": 0
      },
      "text/plain": [
       "Validation: |                                                                                     | 0/? [00:00…"
      ]
     },
     "metadata": {},
     "output_type": "display_data"
    },
    {
     "data": {
      "application/vnd.jupyter.widget-view+json": {
       "model_id": "",
       "version_major": 2,
       "version_minor": 0
      },
      "text/plain": [
       "Validation: |                                                                                     | 0/? [00:00…"
      ]
     },
     "metadata": {},
     "output_type": "display_data"
    },
    {
     "data": {
      "application/vnd.jupyter.widget-view+json": {
       "model_id": "",
       "version_major": 2,
       "version_minor": 0
      },
      "text/plain": [
       "Validation: |                                                                                     | 0/? [00:00…"
      ]
     },
     "metadata": {},
     "output_type": "display_data"
    },
    {
     "data": {
      "application/vnd.jupyter.widget-view+json": {
       "model_id": "",
       "version_major": 2,
       "version_minor": 0
      },
      "text/plain": [
       "Validation: |                                                                                     | 0/? [00:00…"
      ]
     },
     "metadata": {},
     "output_type": "display_data"
    },
    {
     "data": {
      "application/vnd.jupyter.widget-view+json": {
       "model_id": "",
       "version_major": 2,
       "version_minor": 0
      },
      "text/plain": [
       "Validation: |                                                                                     | 0/? [00:00…"
      ]
     },
     "metadata": {},
     "output_type": "display_data"
    },
    {
     "data": {
      "application/vnd.jupyter.widget-view+json": {
       "model_id": "",
       "version_major": 2,
       "version_minor": 0
      },
      "text/plain": [
       "Validation: |                                                                                     | 0/? [00:00…"
      ]
     },
     "metadata": {},
     "output_type": "display_data"
    },
    {
     "data": {
      "application/vnd.jupyter.widget-view+json": {
       "model_id": "",
       "version_major": 2,
       "version_minor": 0
      },
      "text/plain": [
       "Validation: |                                                                                     | 0/? [00:00…"
      ]
     },
     "metadata": {},
     "output_type": "display_data"
    },
    {
     "data": {
      "application/vnd.jupyter.widget-view+json": {
       "model_id": "",
       "version_major": 2,
       "version_minor": 0
      },
      "text/plain": [
       "Validation: |                                                                                     | 0/? [00:00…"
      ]
     },
     "metadata": {},
     "output_type": "display_data"
    },
    {
     "data": {
      "application/vnd.jupyter.widget-view+json": {
       "model_id": "",
       "version_major": 2,
       "version_minor": 0
      },
      "text/plain": [
       "Validation: |                                                                                     | 0/? [00:00…"
      ]
     },
     "metadata": {},
     "output_type": "display_data"
    },
    {
     "data": {
      "application/vnd.jupyter.widget-view+json": {
       "model_id": "",
       "version_major": 2,
       "version_minor": 0
      },
      "text/plain": [
       "Validation: |                                                                                     | 0/? [00:00…"
      ]
     },
     "metadata": {},
     "output_type": "display_data"
    },
    {
     "data": {
      "application/vnd.jupyter.widget-view+json": {
       "model_id": "",
       "version_major": 2,
       "version_minor": 0
      },
      "text/plain": [
       "Validation: |                                                                                     | 0/? [00:00…"
      ]
     },
     "metadata": {},
     "output_type": "display_data"
    },
    {
     "data": {
      "application/vnd.jupyter.widget-view+json": {
       "model_id": "",
       "version_major": 2,
       "version_minor": 0
      },
      "text/plain": [
       "Validation: |                                                                                     | 0/? [00:00…"
      ]
     },
     "metadata": {},
     "output_type": "display_data"
    },
    {
     "data": {
      "application/vnd.jupyter.widget-view+json": {
       "model_id": "",
       "version_major": 2,
       "version_minor": 0
      },
      "text/plain": [
       "Validation: |                                                                                     | 0/? [00:00…"
      ]
     },
     "metadata": {},
     "output_type": "display_data"
    },
    {
     "name": "stderr",
     "output_type": "stream",
     "text": [
      "`Trainer.fit` stopped: `max_epochs=20` reached.\n"
     ]
    }
   ],
   "source": [
    "trainer.fit(mpnn, train_loader, val_loader)"
   ]
  },
  {
   "cell_type": "code",
   "execution_count": 79,
   "id": "27331308-2052-4b55-9ad8-563d889939c5",
   "metadata": {},
   "outputs": [
    {
     "name": "stderr",
     "output_type": "stream",
     "text": [
      "/opt/conda/envs/chemprop_env/lib/python3.11/site-packages/lightning/pytorch/trainer/connectors/checkpoint_connector.py:145: `.test(ckpt_path=None)` was called without a model. The best model of the previous `fit` call will be used. You can pass `.test(ckpt_path='best')` to use the best model or `.test(ckpt_path='last')` to use the last model. If you pass a value, this warning will be silenced.\n",
      "Restoring states from the checkpoint path at /opt/chemprop/checkpoints/best-epoch=19-val_loss=0.27.ckpt\n",
      "Loaded model weights from the checkpoint at /opt/chemprop/checkpoints/best-epoch=19-val_loss=0.27.ckpt\n"
     ]
    },
    {
     "data": {
      "application/vnd.jupyter.widget-view+json": {
       "model_id": "35b2dd6c39ed4717a6d75fe0e93b3709",
       "version_major": 2,
       "version_minor": 0
      },
      "text/plain": [
       "Testing: |                                                                                        | 0/? [00:00…"
      ]
     },
     "metadata": {},
     "output_type": "display_data"
    },
    {
     "name": "stdout",
     "output_type": "stream",
     "text": [
      "────────────────────────────────────────────────────────────────────────────────────────────────────────────────────────\n",
      "       Test metric             DataLoader 0\n",
      "────────────────────────────────────────────────────────────────────────────────────────────────────────────────────────\n",
      " batch_averaged_test/mae     0.61552894115448\n",
      "batch_averaged_test/rmse    0.8305529952049255\n",
      "────────────────────────────────────────────────────────────────────────────────────────────────────────────────────────\n"
     ]
    }
   ],
   "source": [
    "results = trainer.test(dataloaders=test_loader)"
   ]
  }
 ],
 "metadata": {
  "kernelspec": {
   "display_name": "Python 3 (ipykernel)",
   "language": "python",
   "name": "python3"
  },
  "language_info": {
   "codemirror_mode": {
    "name": "ipython",
    "version": 3
   },
   "file_extension": ".py",
   "mimetype": "text/x-python",
   "name": "python",
   "nbconvert_exporter": "python",
   "pygments_lexer": "ipython3",
   "version": "3.11.9"
  }
 },
 "nbformat": 4,
 "nbformat_minor": 5
}
